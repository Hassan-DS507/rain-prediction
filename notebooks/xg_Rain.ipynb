{
  "cells": [
    {
      "cell_type": "code",
      "execution_count": 9,
      "metadata": {
        "id": "iYwCHru0aq9Y"
      },
      "outputs": [],
      "source": [
        "import pandas as pd\n",
        "import numpy as np\n",
        "import seaborn as sns\n",
        "import matplotlib.pyplot as plt\n",
        "from sklearn.model_selection import train_test_split, RandomizedSearchCV\n",
        "from sklearn.metrics import accuracy_score, precision_score, recall_score, f1_score, roc_auc_score, classification_report, confusion_matrix, roc_curve, average_precision_score\n",
        "import xgboost as xgb\n",
        "from bayes_opt import BayesianOptimization\n",
        "import yaml\n",
        "import joblib\n",
        "import os"
      ]
    },
    {
      "cell_type": "markdown",
      "metadata": {
        "id": "GeqCzL1Ezvmv"
      },
      "source": [
        "# XGBoost On The Original Dataset"
      ]
    },
    {
      "cell_type": "markdown",
      "metadata": {
        "id": "f1UExhweU6cH"
      },
      "source": [
        "### XGBoost is a good fit because:\n",
        "- Robust to Missing Values\n",
        "- Captures Nonlinear Relationships\n",
        "- Regularization Prevents Overfitting\n",
        "- Fast and Scalable"
      ]
    },
    {
      "cell_type": "markdown",
      "metadata": {},
      "source": [
        "### Data Loading"
      ]
    },
    {
      "cell_type": "code",
      "execution_count": 10,
      "metadata": {},
      "outputs": [],
      "source": [
        "config_path = os.path.join(\"..\", \"configs\", \"paths.yaml\")\n",
        "with open(config_path, \"r\") as file:\n",
        "    config = yaml.safe_load(file)"
      ]
    },
    {
      "cell_type": "code",
      "execution_count": 11,
      "metadata": {},
      "outputs": [
        {
          "data": {
            "text/html": [
              "<div>\n",
              "<style scoped>\n",
              "    .dataframe tbody tr th:only-of-type {\n",
              "        vertical-align: middle;\n",
              "    }\n",
              "\n",
              "    .dataframe tbody tr th {\n",
              "        vertical-align: top;\n",
              "    }\n",
              "\n",
              "    .dataframe thead th {\n",
              "        text-align: right;\n",
              "    }\n",
              "</style>\n",
              "<table border=\"1\" class=\"dataframe\">\n",
              "  <thead>\n",
              "    <tr style=\"text-align: right;\">\n",
              "      <th></th>\n",
              "      <th>Location</th>\n",
              "      <th>MinTemp</th>\n",
              "      <th>MaxTemp</th>\n",
              "      <th>Rainfall</th>\n",
              "      <th>Evaporation</th>\n",
              "      <th>Sunshine</th>\n",
              "      <th>WindGustDir</th>\n",
              "      <th>WindGustSpeed</th>\n",
              "      <th>WindDir9am</th>\n",
              "      <th>WindDir3pm</th>\n",
              "      <th>...</th>\n",
              "      <th>RainTomorrow</th>\n",
              "      <th>day</th>\n",
              "      <th>month</th>\n",
              "      <th>year</th>\n",
              "      <th>TempDiff</th>\n",
              "      <th>WindSpeedAvg</th>\n",
              "      <th>HumidityDiff</th>\n",
              "      <th>PressureDiff</th>\n",
              "      <th>CloudCoverAvg</th>\n",
              "      <th>WindGustDiff</th>\n",
              "    </tr>\n",
              "  </thead>\n",
              "  <tbody>\n",
              "    <tr>\n",
              "      <th>0</th>\n",
              "      <td>Albury</td>\n",
              "      <td>13.4</td>\n",
              "      <td>22.9</td>\n",
              "      <td>0.6</td>\n",
              "      <td>NaN</td>\n",
              "      <td>NaN</td>\n",
              "      <td>W</td>\n",
              "      <td>44.0</td>\n",
              "      <td>W</td>\n",
              "      <td>WNW</td>\n",
              "      <td>...</td>\n",
              "      <td>0</td>\n",
              "      <td>1</td>\n",
              "      <td>12</td>\n",
              "      <td>2008</td>\n",
              "      <td>9.5</td>\n",
              "      <td>22.0</td>\n",
              "      <td>-49.0</td>\n",
              "      <td>-0.6</td>\n",
              "      <td>8.0</td>\n",
              "      <td>22.0</td>\n",
              "    </tr>\n",
              "    <tr>\n",
              "      <th>1</th>\n",
              "      <td>Albury</td>\n",
              "      <td>7.4</td>\n",
              "      <td>25.1</td>\n",
              "      <td>0.0</td>\n",
              "      <td>NaN</td>\n",
              "      <td>NaN</td>\n",
              "      <td>WNW</td>\n",
              "      <td>44.0</td>\n",
              "      <td>NNW</td>\n",
              "      <td>WSW</td>\n",
              "      <td>...</td>\n",
              "      <td>0</td>\n",
              "      <td>2</td>\n",
              "      <td>12</td>\n",
              "      <td>2008</td>\n",
              "      <td>17.7</td>\n",
              "      <td>13.0</td>\n",
              "      <td>-19.0</td>\n",
              "      <td>-2.8</td>\n",
              "      <td>NaN</td>\n",
              "      <td>31.0</td>\n",
              "    </tr>\n",
              "    <tr>\n",
              "      <th>2</th>\n",
              "      <td>Albury</td>\n",
              "      <td>12.9</td>\n",
              "      <td>25.7</td>\n",
              "      <td>0.0</td>\n",
              "      <td>NaN</td>\n",
              "      <td>NaN</td>\n",
              "      <td>WSW</td>\n",
              "      <td>46.0</td>\n",
              "      <td>W</td>\n",
              "      <td>WSW</td>\n",
              "      <td>...</td>\n",
              "      <td>0</td>\n",
              "      <td>3</td>\n",
              "      <td>12</td>\n",
              "      <td>2008</td>\n",
              "      <td>12.8</td>\n",
              "      <td>22.5</td>\n",
              "      <td>-8.0</td>\n",
              "      <td>1.1</td>\n",
              "      <td>2.0</td>\n",
              "      <td>23.5</td>\n",
              "    </tr>\n",
              "    <tr>\n",
              "      <th>3</th>\n",
              "      <td>Albury</td>\n",
              "      <td>9.2</td>\n",
              "      <td>28.0</td>\n",
              "      <td>0.0</td>\n",
              "      <td>NaN</td>\n",
              "      <td>NaN</td>\n",
              "      <td>NE</td>\n",
              "      <td>24.0</td>\n",
              "      <td>SE</td>\n",
              "      <td>E</td>\n",
              "      <td>...</td>\n",
              "      <td>0</td>\n",
              "      <td>4</td>\n",
              "      <td>12</td>\n",
              "      <td>2008</td>\n",
              "      <td>18.8</td>\n",
              "      <td>10.0</td>\n",
              "      <td>-29.0</td>\n",
              "      <td>-4.8</td>\n",
              "      <td>NaN</td>\n",
              "      <td>14.0</td>\n",
              "    </tr>\n",
              "    <tr>\n",
              "      <th>4</th>\n",
              "      <td>Albury</td>\n",
              "      <td>17.5</td>\n",
              "      <td>32.3</td>\n",
              "      <td>1.0</td>\n",
              "      <td>NaN</td>\n",
              "      <td>NaN</td>\n",
              "      <td>W</td>\n",
              "      <td>41.0</td>\n",
              "      <td>ENE</td>\n",
              "      <td>NW</td>\n",
              "      <td>...</td>\n",
              "      <td>0</td>\n",
              "      <td>5</td>\n",
              "      <td>12</td>\n",
              "      <td>2008</td>\n",
              "      <td>14.8</td>\n",
              "      <td>13.5</td>\n",
              "      <td>-49.0</td>\n",
              "      <td>-4.8</td>\n",
              "      <td>7.5</td>\n",
              "      <td>27.5</td>\n",
              "    </tr>\n",
              "  </tbody>\n",
              "</table>\n",
              "<p>5 rows × 31 columns</p>\n",
              "</div>"
            ],
            "text/plain": [
              "  Location  MinTemp  MaxTemp  Rainfall  Evaporation  Sunshine WindGustDir  \\\n",
              "0   Albury     13.4     22.9       0.6          NaN       NaN           W   \n",
              "1   Albury      7.4     25.1       0.0          NaN       NaN         WNW   \n",
              "2   Albury     12.9     25.7       0.0          NaN       NaN         WSW   \n",
              "3   Albury      9.2     28.0       0.0          NaN       NaN          NE   \n",
              "4   Albury     17.5     32.3       1.0          NaN       NaN           W   \n",
              "\n",
              "   WindGustSpeed WindDir9am WindDir3pm  ...  RainTomorrow  day  month  year  \\\n",
              "0           44.0          W        WNW  ...             0    1     12  2008   \n",
              "1           44.0        NNW        WSW  ...             0    2     12  2008   \n",
              "2           46.0          W        WSW  ...             0    3     12  2008   \n",
              "3           24.0         SE          E  ...             0    4     12  2008   \n",
              "4           41.0        ENE         NW  ...             0    5     12  2008   \n",
              "\n",
              "   TempDiff  WindSpeedAvg  HumidityDiff  PressureDiff  CloudCoverAvg  \\\n",
              "0       9.5          22.0         -49.0          -0.6            8.0   \n",
              "1      17.7          13.0         -19.0          -2.8            NaN   \n",
              "2      12.8          22.5          -8.0           1.1            2.0   \n",
              "3      18.8          10.0         -29.0          -4.8            NaN   \n",
              "4      14.8          13.5         -49.0          -4.8            7.5   \n",
              "\n",
              "   WindGustDiff  \n",
              "0          22.0  \n",
              "1          31.0  \n",
              "2          23.5  \n",
              "3          14.0  \n",
              "4          27.5  \n",
              "\n",
              "[5 rows x 31 columns]"
            ]
          },
          "execution_count": 11,
          "metadata": {},
          "output_type": "execute_result"
        }
      ],
      "source": [
        "xg_data_path = config[\"data_paths\"][\"xg_processed_data_path\"]\n",
        "xg_data_path_full = os.path.join(\"..\", xg_data_path.replace(\"\\\\\", \"/\"))\n",
        "df = pd.read_csv(xg_data_path_full)\n",
        "df.head()"
      ]
    },
    {
      "cell_type": "markdown",
      "metadata": {
        "id": "u-0FbQIMXHB2"
      },
      "source": [
        "#### Class Weights"
      ]
    },
    {
      "cell_type": "code",
      "execution_count": 12,
      "metadata": {
        "colab": {
          "base_uri": "https://localhost:8080/"
        },
        "id": "1nB4-cCBXEQ5",
        "outputId": "5c9d50d0-7881-4500-84ce-89bba2d8332b"
      },
      "outputs": [
        {
          "data": {
            "text/plain": [
              "3.4606769771308468"
            ]
          },
          "execution_count": 12,
          "metadata": {},
          "output_type": "execute_result"
        }
      ],
      "source": [
        "len(df.loc[df['RainTomorrow'] == 0]) / (len(df.loc[df['RainTomorrow'] == 1]))"
      ]
    },
    {
      "cell_type": "markdown",
      "metadata": {},
      "source": [
        "#### Seperating Data"
      ]
    },
    {
      "cell_type": "code",
      "execution_count": 13,
      "metadata": {
        "id": "3EcVfQbEhwXc"
      },
      "outputs": [],
      "source": [
        "num_cols = df.select_dtypes(include=['number']).columns.difference(['RainTomorrow'])\n",
        "cat_cols = df.select_dtypes(include=['object']).columns"
      ]
    },
    {
      "cell_type": "markdown",
      "metadata": {},
      "source": [
        "#### Split Train and Test Data"
      ]
    },
    {
      "cell_type": "code",
      "execution_count": 14,
      "metadata": {
        "id": "X7WPDT7TgMo2"
      },
      "outputs": [],
      "source": [
        "X = df.drop('RainTomorrow', axis=1)\n",
        "for col in cat_cols:\n",
        "  X[col] = X[col].astype('category') # Change: Assign the converted dtype back to the column\n",
        "y = df['RainTomorrow']\n",
        "\n",
        "X_train, X_test, y_train, y_test = train_test_split(X, y, test_size=0.2, random_state=42)"
      ]
    },
    {
      "cell_type": "markdown",
      "metadata": {
        "id": "VbJeQgx7P0IW"
      },
      "source": [
        "## Build The Model"
      ]
    },
    {
      "cell_type": "markdown",
      "metadata": {},
      "source": [
        "#### Null Model"
      ]
    },
    {
      "cell_type": "code",
      "execution_count": 15,
      "metadata": {
        "colab": {
          "base_uri": "https://localhost:8080/"
        },
        "id": "6Sek6iEDNx-M",
        "outputId": "a79a1c57-04d3-4f8d-cd70-c51623095475"
      },
      "outputs": [
        {
          "name": "stdout",
          "output_type": "stream",
          "text": [
            "Null accuracy score: 0.7755\n"
          ]
        }
      ],
      "source": [
        "y_null_pred = y_train.value_counts()[0]\n",
        "null_accuracy = (y_null_pred/len(y_train))\n",
        "\n",
        "print('Null accuracy score: {0:0.4f}'. format(null_accuracy))"
      ]
    },
    {
      "cell_type": "markdown",
      "metadata": {},
      "source": [
        "### XGBoost Model"
      ]
    },
    {
      "cell_type": "code",
      "execution_count": 16,
      "metadata": {
        "colab": {
          "base_uri": "https://localhost:8080/"
        },
        "id": "6StW6KLrjOe3",
        "outputId": "66447a2c-28e0-4c6f-dc6e-9dce6d7255e8"
      },
      "outputs": [
        {
          "name": "stdout",
          "output_type": "stream",
          "text": [
            "model score: 0.852\n"
          ]
        }
      ],
      "source": [
        "model = xgb.XGBClassifier(\n",
        "    eta=0.1,#0.1\n",
        "    n_estimators=100,#100\n",
        "    enable_categorical=True,\n",
        "    scale_pos_weight=3,\n",
        "    gamma=1,\n",
        "    max_depth=6,\n",
        "    min_child_weight=2,#2\n",
        "    reg_lambda=2,\n",
        "    reg_alpha=2,#2\n",
        "    subsample=1,#\n",
        "    colsample_bytree=0.82#\n",
        ")\n",
        "model.fit(X_train, y_train)\n",
        "print(\"model score: %.3f\" % model.score(X_train, y_train))"
      ]
    },
    {
      "cell_type": "markdown",
      "metadata": {
        "id": "hWqY4zGYP26x"
      },
      "source": [
        "## Model Evaluation"
      ]
    },
    {
      "cell_type": "code",
      "execution_count": 17,
      "metadata": {
        "id": "9u0bp6vSMawu"
      },
      "outputs": [],
      "source": [
        "y_pred_train = model.predict(X_train)\n",
        "y_pred_test = model.predict(X_test)"
      ]
    },
    {
      "cell_type": "markdown",
      "metadata": {
        "id": "lQLUQTNKP842"
      },
      "source": [
        "#### Tain-set Accuracy"
      ]
    },
    {
      "cell_type": "code",
      "execution_count": 18,
      "metadata": {
        "colab": {
          "base_uri": "https://localhost:8080/"
        },
        "id": "LVtkHT5fMqDW",
        "outputId": "f227cdcc-e203-4886-df59-f340da15d19d"
      },
      "outputs": [
        {
          "name": "stdout",
          "output_type": "stream",
          "text": [
            "Training-set accuracy score: 0.8523\n",
            "Confusion Matrix:\n",
            " [[76026 12192]\n",
            " [ 4606 20930]]\n",
            "Classification Report:\n",
            "               precision    recall  f1-score   support\n",
            "\n",
            "           0       0.94      0.86      0.90     88218\n",
            "           1       0.63      0.82      0.71     25536\n",
            "\n",
            "    accuracy                           0.85    113754\n",
            "   macro avg       0.79      0.84      0.81    113754\n",
            "weighted avg       0.87      0.85      0.86    113754\n",
            "\n"
          ]
        }
      ],
      "source": [
        "print('Training-set accuracy score: {0:0.4f}'. format(accuracy_score(y_train, y_pred_train)))\n",
        "print(\"Confusion Matrix:\\n\", confusion_matrix(y_train, y_pred_train))\n",
        "print(\"Classification Report:\\n\", classification_report(y_train, y_pred_train))"
      ]
    },
    {
      "cell_type": "markdown",
      "metadata": {
        "id": "gATdwPTqQD0z"
      },
      "source": [
        "#### Test-set Accuracy"
      ]
    },
    {
      "cell_type": "code",
      "execution_count": 19,
      "metadata": {
        "colab": {
          "base_uri": "https://localhost:8080/"
        },
        "id": "ZKVFhYEiMyAH",
        "outputId": "696f99d4-89b1-46a1-a412-663c72267dcd"
      },
      "outputs": [
        {
          "name": "stdout",
          "output_type": "stream",
          "text": [
            "model accuracy score: 0.8286\n",
            "Confusion Matrix:\n",
            " [[18685  3413]\n",
            " [ 1461  4880]]\n",
            "Classification Report:\n",
            "               precision    recall  f1-score   support\n",
            "\n",
            "           0       0.93      0.85      0.88     22098\n",
            "           1       0.59      0.77      0.67      6341\n",
            "\n",
            "    accuracy                           0.83     28439\n",
            "   macro avg       0.76      0.81      0.78     28439\n",
            "weighted avg       0.85      0.83      0.84     28439\n",
            "\n"
          ]
        }
      ],
      "source": [
        "print('model accuracy score: {0:0.4f}'. format(accuracy_score(y_test, y_pred_test)))\n",
        "print(\"Confusion Matrix:\\n\", confusion_matrix(y_test, y_pred_test))\n",
        "print(\"Classification Report:\\n\", classification_report(y_test, y_pred_test))"
      ]
    },
    {
      "cell_type": "markdown",
      "metadata": {
        "id": "X0t0z9cuQK9G"
      },
      "source": [
        "#### Confusion Matrix"
      ]
    },
    {
      "cell_type": "code",
      "execution_count": 20,
      "metadata": {
        "colab": {
          "base_uri": "https://localhost:8080/",
          "height": 469
        },
        "id": "srjo2zJeM5Wf",
        "outputId": "989f12d3-1987-467b-9e28-b19c891e39b4"
      },
      "outputs": [
        {
          "data": {
            "text/plain": [
              "Text(0.5, 1.0, 'Confusion Matrix of XGBoost Model')"
            ]
          },
          "execution_count": 20,
          "metadata": {},
          "output_type": "execute_result"
        },
        {
          "data": {
            "image/png": "[encoded data removed]",
            "text/plain": [
              "<Figure size 640x480 with 2 Axes>"
            ]
          },
          "metadata": {},
          "output_type": "display_data"
        }
      ],
      "source": [
        "test_cm = confusion_matrix(y_test, y_pred_test)\n",
        "\n",
        "cm_matrix = pd.DataFrame(\n",
        "    data=test_cm,\n",
        "    columns=['Predicted 0', 'Predicted 1'],\n",
        "    index=['Actual 0', 'Actual 1']\n",
        ")\n",
        "\n",
        "sns.heatmap(cm_matrix, annot=True, cmap='Greens', fmt='d')\n",
        "plt.title(\"Confusion Matrix of XGBoost Model\")"
      ]
    },
    {
      "cell_type": "code",
      "execution_count": 21,
      "metadata": {
        "id": "jG79fsSaSU2T"
      },
      "outputs": [],
      "source": [
        "TP = test_cm[1, 1]\n",
        "TN = test_cm[0, 0]\n",
        "FP = test_cm[0, 1]\n",
        "FN = test_cm[1, 0]"
      ]
    },
    {
      "cell_type": "markdown",
      "metadata": {
        "id": "HtUcLJl7RnU_"
      },
      "source": [
        "#### ROC Curve"
      ]
    },
    {
      "cell_type": "code",
      "execution_count": 22,
      "metadata": {
        "id": "op6s3ry9Om8M"
      },
      "outputs": [],
      "source": [
        "y_pred_prob = model.predict_proba(X_test)"
      ]
    },
    {
      "cell_type": "code",
      "execution_count": 23,
      "metadata": {
        "colab": {
          "base_uri": "https://localhost:8080/",
          "height": 487
        },
        "id": "o--E3nETObUM",
        "outputId": "dfb76fa3-e584-46b9-ec26-44e851613e69"
      },
      "outputs": [
        {
          "data": {
            "image/png": "[encoded data removed]",
            "text/plain": [
              "<Figure size 500x500 with 1 Axes>"
            ]
          },
          "metadata": {},
          "output_type": "display_data"
        }
      ],
      "source": [
        "fpr, tpr, thresholds = roc_curve(y_test, y_pred_prob[:, 1])\n",
        "ROC_AUC = roc_auc_score(y_test, y_pred_prob[:, 1])\n",
        "\n",
        "plt.figure(figsize=(5, 5))\n",
        "plt.plot(fpr, tpr)\n",
        "plt.title(f\"ROC curve for XGBoost Classifier with AUC: {ROC_AUC}\")\n",
        "plt.xlabel(\"False Positive Rate\")\n",
        "plt.ylabel(\"True Positive Rate\")\n",
        "plt.grid()\n",
        "plt.show()"
      ]
    },
    {
      "cell_type": "markdown",
      "metadata": {
        "id": "M0welHLmdVIi"
      },
      "source": [
        "with AUC ≈ 0.896, your model:\n",
        "\n",
        "- Can correctly distinguish between rain and no rain ~90% of the time.\n",
        "\n",
        "- Has strong discriminative power.\n",
        "\n",
        "- Suggests that your classifier’s predicted probabilities are informative."
      ]
    },
    {
      "cell_type": "markdown",
      "metadata": {
        "id": "pHHdc5N_SIwa"
      },
      "source": [
        "#### Classification error"
      ]
    },
    {
      "cell_type": "code",
      "execution_count": 24,
      "metadata": {
        "colab": {
          "base_uri": "https://localhost:8080/"
        },
        "id": "r1NWUR3wSHfa",
        "outputId": "da46addc-f564-4a21-f505-5b1347e87a43"
      },
      "outputs": [
        {
          "name": "stdout",
          "output_type": "stream",
          "text": [
            "Classification error : 0.1714\n"
          ]
        }
      ],
      "source": [
        "classification_error = (FP + FN) / float(TP + TN + FP + FN)\n",
        "print('Classification error : {0:0.4f}'.format(classification_error))"
      ]
    },
    {
      "cell_type": "markdown",
      "metadata": {
        "id": "D0G9kjX4UrV1"
      },
      "source": [
        "#### Precision\n"
      ]
    },
    {
      "cell_type": "code",
      "execution_count": 25,
      "metadata": {
        "colab": {
          "base_uri": "https://localhost:8080/"
        },
        "id": "6z1e5uEFUtRT",
        "outputId": "281949e3-894d-4bd5-b5bf-50a8a5063154"
      },
      "outputs": [
        {
          "name": "stdout",
          "output_type": "stream",
          "text": [
            "Precision : 0.5884\n"
          ]
        }
      ],
      "source": [
        "p = TP / float(TP + FP)\n",
        "print('Precision : {0:0.4f}'.format(p))"
      ]
    },
    {
      "cell_type": "markdown",
      "metadata": {
        "id": "cyIFyR5WU8yu"
      },
      "source": [
        "#### Recall"
      ]
    },
    {
      "cell_type": "code",
      "execution_count": 26,
      "metadata": {
        "colab": {
          "base_uri": "https://localhost:8080/"
        },
        "id": "gTCW5ONzU-cM",
        "outputId": "620a4b0e-07a3-4874-a102-3a6771af8201"
      },
      "outputs": [
        {
          "name": "stdout",
          "output_type": "stream",
          "text": [
            "Recall or Sensitivity : 0.7696\n"
          ]
        }
      ],
      "source": [
        "recall = TP / float(TP + FN)\n",
        "print('Recall or Sensitivity : {0:0.4f}'.format(recall))"
      ]
    },
    {
      "cell_type": "markdown",
      "metadata": {
        "id": "i3aCJfqXVnDe"
      },
      "source": [
        "In rain prediction, `recall` is more important than `precision`, because missing a rain event (false negative) is worse than a false alarm."
      ]
    },
    {
      "cell_type": "markdown",
      "metadata": {
        "id": "q56rjGgzWXY1"
      },
      "source": [
        "#### Tune Decision Threshold"
      ]
    },
    {
      "cell_type": "code",
      "execution_count": 27,
      "metadata": {
        "id": "fRww04AxWfoy"
      },
      "outputs": [],
      "source": [
        "y_probs = y_pred_prob[:, 1]\n",
        "thresh = 0.53\n",
        "y_pred_new = (y_probs >= thresh).astype(int)"
      ]
    },
    {
      "cell_type": "code",
      "execution_count": 28,
      "metadata": {
        "colab": {
          "base_uri": "https://localhost:8080/"
        },
        "id": "EwSiYxyMW2pS",
        "outputId": "5e1a539e-3218-4d3c-a0fb-d12cc8e1f622"
      },
      "outputs": [
        {
          "name": "stdout",
          "output_type": "stream",
          "text": [
            "[[19053  3045]\n",
            " [ 1588  4753]]\n",
            "              precision    recall  f1-score   support\n",
            "\n",
            "           0       0.92      0.86      0.89     22098\n",
            "           1       0.61      0.75      0.67      6341\n",
            "\n",
            "    accuracy                           0.84     28439\n",
            "   macro avg       0.77      0.81      0.78     28439\n",
            "weighted avg       0.85      0.84      0.84     28439\n",
            "\n"
          ]
        }
      ],
      "source": [
        "print(confusion_matrix(y_test, y_pred_new))\n",
        "print(classification_report(y_test, y_pred_new))"
      ]
    },
    {
      "cell_type": "code",
      "execution_count": 29,
      "metadata": {
        "colab": {
          "base_uri": "https://localhost:8080/",
          "height": 472
        },
        "id": "bNNRboXZXIuX",
        "outputId": "97c66455-4aca-4745-ec7f-68db44b41a66"
      },
      "outputs": [
        {
          "data": {
            "image/png": "[encoded data removed]",
            "text/plain": [
              "<Figure size 640x480 with 1 Axes>"
            ]
          },
          "metadata": {},
          "output_type": "display_data"
        }
      ],
      "source": [
        "from sklearn.metrics import precision_recall_curve\n",
        "\n",
        "precision, recall, thresholds = precision_recall_curve(y_test, y_probs)\n",
        "\n",
        "plt.plot(thresholds, precision[:-1], label=\"Precision\")\n",
        "plt.plot(thresholds, recall[:-1], label=\"Recall\")\n",
        "plt.xlabel(\"Threshold\")\n",
        "plt.ylabel(\"Score\")\n",
        "plt.title(\"Precision-Recall vs Threshold\")\n",
        "plt.legend()\n",
        "plt.grid(True)\n",
        "plt.show()\n"
      ]
    },
    {
      "cell_type": "markdown",
      "metadata": {
        "id": "pjdChLJYcIbS"
      },
      "source": [
        "`0.53` is a sweet spot keeping `recall` above `75%` and `precision` above `60%`"
      ]
    },
    {
      "cell_type": "markdown",
      "metadata": {
        "id": "G3S6Hqyie9q6"
      },
      "source": [
        "#### Feature Importance Analysis"
      ]
    },
    {
      "cell_type": "code",
      "execution_count": 30,
      "metadata": {
        "colab": {
          "base_uri": "https://localhost:8080/",
          "height": 472
        },
        "id": "AdIiIioYe-SB",
        "outputId": "c8502c1c-0690-4a3b-873b-d04ad1243d5f"
      },
      "outputs": [
        {
          "data": {
            "image/png": "[encoded data removed]",
            "text/plain": [
              "<Figure size 640x480 with 1 Axes>"
            ]
          },
          "metadata": {},
          "output_type": "display_data"
        }
      ],
      "source": [
        "from xgboost import plot_importance\n",
        "\n",
        "plot_importance(model)\n",
        "plt.show()"
      ]
    },
    {
      "cell_type": "markdown",
      "metadata": {
        "id": "jQlNy5wDmqib"
      },
      "source": [
        " ### Bayesian Optimization"
      ]
    },
    {
      "cell_type": "code",
      "execution_count": 32,
      "metadata": {
        "colab": {
          "base_uri": "https://localhost:8080/"
        },
        "id": "1aDFvfdZFx5H",
        "outputId": "45ec8e9f-c5c0-435a-fab9-2fea98ca6107"
      },
      "outputs": [
        {
          "name": "stdout",
          "output_type": "stream",
          "text": [
            "|   iter    |  target   | colsam... |   gamma   | learni... | max_depth | min_ch... | reg_alpha | reg_la... | scale_... | subsample |\n",
            "-------------------------------------------------------------------------------------------------------------------------------------\n",
            "| \u001b[39m1        \u001b[39m | \u001b[39m0.7516   \u001b[39m | \u001b[39m0.6873   \u001b[39m | \u001b[39m4.754    \u001b[39m | \u001b[39m0.2223   \u001b[39m | \u001b[39m7.191    \u001b[39m | \u001b[39m2.404    \u001b[39m | \u001b[39m1.56     \u001b[39m | \u001b[39m0.5808   \u001b[39m | \u001b[39m3.866    \u001b[39m | \u001b[39m0.8006   \u001b[39m |\n",
            "| \u001b[39m2        \u001b[39m | \u001b[39m0.7406   \u001b[39m | \u001b[39m0.854    \u001b[39m | \u001b[39m0.1029   \u001b[39m | \u001b[39m0.2913   \u001b[39m | \u001b[39m8.827    \u001b[39m | \u001b[39m2.911    \u001b[39m | \u001b[39m1.818    \u001b[39m | \u001b[39m1.834    \u001b[39m | \u001b[39m3.304    \u001b[39m | \u001b[39m0.7624   \u001b[39m |\n",
            "| \u001b[39m3        \u001b[39m | \u001b[39m0.7361   \u001b[39m | \u001b[39m0.716    \u001b[39m | \u001b[39m1.456    \u001b[39m | \u001b[39m0.1874   \u001b[39m | \u001b[39m3.976    \u001b[39m | \u001b[39m3.629    \u001b[39m | \u001b[39m3.664    \u001b[39m | \u001b[39m4.561    \u001b[39m | \u001b[39m3.785    \u001b[39m | \u001b[39m0.5998   \u001b[39m |\n",
            "| \u001b[39m4        \u001b[39m | \u001b[39m0.7309   \u001b[39m | \u001b[39m0.7571   \u001b[39m | \u001b[39m2.962    \u001b[39m | \u001b[39m0.02347  \u001b[39m | \u001b[39m7.253    \u001b[39m | \u001b[39m2.535    \u001b[39m | \u001b[39m0.6505   \u001b[39m | \u001b[39m9.489    \u001b[39m | \u001b[39m3.966    \u001b[39m | \u001b[39m0.9042   \u001b[39m |\n",
            "| \u001b[35m5        \u001b[39m | \u001b[35m0.7525   \u001b[39m | \u001b[35m0.6523   \u001b[39m | \u001b[35m0.4884   \u001b[39m | \u001b[35m0.2084   \u001b[39m | \u001b[35m6.081    \u001b[39m | \u001b[35m2.098    \u001b[39m | \u001b[35m4.952    \u001b[39m | \u001b[35m0.3439   \u001b[39m | \u001b[35m3.909    \u001b[39m | \u001b[35m0.6294   \u001b[39m |\n",
            "| \u001b[35m6        \u001b[39m | \u001b[35m0.7568   \u001b[39m | \u001b[35m0.8313   \u001b[39m | \u001b[35m1.559    \u001b[39m | \u001b[35m0.1608   \u001b[39m | \u001b[35m6.827    \u001b[39m | \u001b[35m2.664    \u001b[39m | \u001b[35m9.696    \u001b[39m | \u001b[35m7.751    \u001b[39m | \u001b[35m3.939    \u001b[39m | \u001b[35m0.9474   \u001b[39m |\n",
            "| \u001b[39m7        \u001b[39m | \u001b[39m0.7163   \u001b[39m | \u001b[39m0.7989   \u001b[39m | \u001b[39m4.609    \u001b[39m | \u001b[39m0.03566  \u001b[39m | \u001b[39m4.372    \u001b[39m | \u001b[39m1.407    \u001b[39m | \u001b[39m3.253    \u001b[39m | \u001b[39m3.887    \u001b[39m | \u001b[39m3.271    \u001b[39m | \u001b[39m0.9144   \u001b[39m |\n",
            "| \u001b[39m8        \u001b[39m | \u001b[39m0.7348   \u001b[39m | \u001b[39m0.6784   \u001b[39m | \u001b[39m1.405    \u001b[39m | \u001b[39m0.1674   \u001b[39m | \u001b[39m3.986    \u001b[39m | \u001b[39m8.22     \u001b[39m | \u001b[39m0.7455   \u001b[39m | \u001b[39m9.869    \u001b[39m | \u001b[39m3.772    \u001b[39m | \u001b[39m0.5994   \u001b[39m |\n",
            "| \u001b[39m9        \u001b[39m | \u001b[39m0.7557   \u001b[39m | \u001b[39m0.5028   \u001b[39m | \u001b[39m4.077    \u001b[39m | \u001b[39m0.215    \u001b[39m | \u001b[39m8.103    \u001b[39m | \u001b[39m7.941    \u001b[39m | \u001b[39m0.7404   \u001b[39m | \u001b[39m3.585    \u001b[39m | \u001b[39m3.116    \u001b[39m | \u001b[39m0.9316   \u001b[39m |\n",
            "| \u001b[39m10       \u001b[39m | \u001b[39m0.7191   \u001b[39m | \u001b[39m0.8116   \u001b[39m | \u001b[39m1.654    \u001b[39m | \u001b[39m0.02843  \u001b[39m | \u001b[39m5.177    \u001b[39m | \u001b[39m3.927    \u001b[39m | \u001b[39m7.296    \u001b[39m | \u001b[39m6.376    \u001b[39m | \u001b[39m3.887    \u001b[39m | \u001b[39m0.7361   \u001b[39m |\n",
            "| \u001b[39m11       \u001b[39m | \u001b[39m0.7462   \u001b[39m | \u001b[39m0.9804   \u001b[39m | \u001b[39m3.013    \u001b[39m | \u001b[39m0.2973   \u001b[39m | \u001b[39m6.027    \u001b[39m | \u001b[39m1.291    \u001b[39m | \u001b[39m3.024    \u001b[39m | \u001b[39m6.508    \u001b[39m | \u001b[39m3.91     \u001b[39m | \u001b[39m0.8076   \u001b[39m |\n",
            "| \u001b[39m12       \u001b[39m | \u001b[39m0.7378   \u001b[39m | \u001b[39m0.8803   \u001b[39m | \u001b[39m3.636    \u001b[39m | \u001b[39m0.1922   \u001b[39m | \u001b[39m3.528    \u001b[39m | \u001b[39m3.544    \u001b[39m | \u001b[39m4.279    \u001b[39m | \u001b[39m0.2343   \u001b[39m | \u001b[39m3.967    \u001b[39m | \u001b[39m0.6052   \u001b[39m |\n",
            "| \u001b[39m13       \u001b[39m | \u001b[39m0.7527   \u001b[39m | \u001b[39m0.7191   \u001b[39m | \u001b[39m4.77     \u001b[39m | \u001b[39m0.06355  \u001b[39m | \u001b[39m9.538    \u001b[39m | \u001b[39m4.982    \u001b[39m | \u001b[39m2.606    \u001b[39m | \u001b[39m6.079    \u001b[39m | \u001b[39m3.404    \u001b[39m | \u001b[39m0.699    \u001b[39m |\n",
            "| \u001b[39m14       \u001b[39m | \u001b[39m0.739    \u001b[39m | \u001b[39m0.563    \u001b[39m | \u001b[39m1.222    \u001b[39m | \u001b[39m0.2306   \u001b[39m | \u001b[39m3.192    \u001b[39m | \u001b[39m8.478    \u001b[39m | \u001b[39m1.725    \u001b[39m | \u001b[39m8.634    \u001b[39m | \u001b[39m3.166    \u001b[39m | \u001b[39m0.6726   \u001b[39m |\n",
            "| \u001b[39m15       \u001b[39m | \u001b[39m0.7533   \u001b[39m | \u001b[39m0.6676   \u001b[39m | \u001b[39m4.454    \u001b[39m | \u001b[39m0.06477  \u001b[39m | \u001b[39m8.105    \u001b[39m | \u001b[39m7.442    \u001b[39m | \u001b[39m0.2117   \u001b[39m | \u001b[39m3.312    \u001b[39m | \u001b[39m3.193    \u001b[39m | \u001b[39m0.5453   \u001b[39m |\n",
            "| \u001b[39m16       \u001b[39m | \u001b[39m0.7544   \u001b[39m | \u001b[39m0.5085   \u001b[39m | \u001b[39m4.801    \u001b[39m | \u001b[39m0.2216   \u001b[39m | \u001b[39m9.15     \u001b[39m | \u001b[39m5.991    \u001b[39m | \u001b[39m1.505    \u001b[39m | \u001b[39m4.073    \u001b[39m | \u001b[39m3.37     \u001b[39m | \u001b[39m0.8271   \u001b[39m |\n",
            "| \u001b[39m17       \u001b[39m | \u001b[39m0.7366   \u001b[39m | \u001b[39m0.7151   \u001b[39m | \u001b[39m4.476    \u001b[39m | \u001b[39m0.2958   \u001b[39m | \u001b[39m8.816    \u001b[39m | \u001b[39m7.894    \u001b[39m | \u001b[39m2.264    \u001b[39m | \u001b[39m5.214    \u001b[39m | \u001b[39m3.072    \u001b[39m | \u001b[39m0.6611   \u001b[39m |\n",
            "| \u001b[39m18       \u001b[39m | \u001b[39m0.7504   \u001b[39m | \u001b[39m0.9451   \u001b[39m | \u001b[39m3.778    \u001b[39m | \u001b[39m0.1889   \u001b[39m | \u001b[39m7.551    \u001b[39m | \u001b[39m6.773    \u001b[39m | \u001b[39m1.698    \u001b[39m | \u001b[39m3.087    \u001b[39m | \u001b[39m3.847    \u001b[39m | \u001b[39m0.7095   \u001b[39m |\n",
            "| \u001b[39m19       \u001b[39m | \u001b[39m0.7508   \u001b[39m | \u001b[39m0.6044   \u001b[39m | \u001b[39m0.3765   \u001b[39m | \u001b[39m0.08296  \u001b[39m | \u001b[39m7.994    \u001b[39m | \u001b[39m2.765    \u001b[39m | \u001b[39m9.819    \u001b[39m | \u001b[39m8.009    \u001b[39m | \u001b[39m3.503    \u001b[39m | \u001b[39m0.847    \u001b[39m |\n",
            "| \u001b[35m20       \u001b[39m | \u001b[35m0.7569   \u001b[39m | \u001b[35m0.9097   \u001b[39m | \u001b[35m2.738    \u001b[39m | \u001b[35m0.2269   \u001b[39m | \u001b[35m6.877    \u001b[39m | \u001b[35m1.327    \u001b[39m | \u001b[35m9.652    \u001b[39m | \u001b[35m9.003    \u001b[39m | \u001b[35m3.593    \u001b[39m | \u001b[35m0.9045   \u001b[39m |\n",
            "| \u001b[35m21       \u001b[39m | \u001b[35m0.759    \u001b[39m | \u001b[35m0.8173   \u001b[39m | \u001b[35m1.274    \u001b[39m | \u001b[35m0.2732   \u001b[39m | \u001b[35m6.113    \u001b[39m | \u001b[35m2.539    \u001b[39m | \u001b[35m9.853    \u001b[39m | \u001b[35m9.505    \u001b[39m | \u001b[35m3.245    \u001b[39m | \u001b[35m0.9853   \u001b[39m |\n",
            "| \u001b[39m22       \u001b[39m | \u001b[39m0.754    \u001b[39m | \u001b[39m0.5699   \u001b[39m | \u001b[39m2.777    \u001b[39m | \u001b[39m0.2063   \u001b[39m | \u001b[39m6.774    \u001b[39m | \u001b[39m3.621    \u001b[39m | \u001b[39m9.584    \u001b[39m | \u001b[39m9.743    \u001b[39m | \u001b[39m3.804    \u001b[39m | \u001b[39m0.5834   \u001b[39m |\n",
            "| \u001b[39m23       \u001b[39m | \u001b[39m0.7565   \u001b[39m | \u001b[39m0.7022   \u001b[39m | \u001b[39m4.648    \u001b[39m | \u001b[39m0.1091   \u001b[39m | \u001b[39m9.844    \u001b[39m | \u001b[39m4.07     \u001b[39m | \u001b[39m0.5983   \u001b[39m | \u001b[39m2.287    \u001b[39m | \u001b[39m3.423    \u001b[39m | \u001b[39m0.7159   \u001b[39m |\n",
            "| \u001b[39m24       \u001b[39m | \u001b[39m0.7508   \u001b[39m | \u001b[39m0.5702   \u001b[39m | \u001b[39m4.557    \u001b[39m | \u001b[39m0.266    \u001b[39m | \u001b[39m9.134    \u001b[39m | \u001b[39m6.581    \u001b[39m | \u001b[39m0.9248   \u001b[39m | \u001b[39m0.01933  \u001b[39m | \u001b[39m3.076    \u001b[39m | \u001b[39m0.9414   \u001b[39m |\n",
            "| \u001b[39m25       \u001b[39m | \u001b[39m0.7548   \u001b[39m | \u001b[39m0.6897   \u001b[39m | \u001b[39m4.676    \u001b[39m | \u001b[39m0.06102  \u001b[39m | \u001b[39m9.798    \u001b[39m | \u001b[39m3.015    \u001b[39m | \u001b[39m0.1251   \u001b[39m | \u001b[39m4.821    \u001b[39m | \u001b[39m3.16     \u001b[39m | \u001b[39m0.6013   \u001b[39m |\n",
            "| \u001b[39m26       \u001b[39m | \u001b[39m0.7514   \u001b[39m | \u001b[39m0.7796   \u001b[39m | \u001b[39m2.487    \u001b[39m | \u001b[39m0.1663   \u001b[39m | \u001b[39m8.772    \u001b[39m | \u001b[39m9.728    \u001b[39m | \u001b[39m0.5561   \u001b[39m | \u001b[39m2.304    \u001b[39m | \u001b[39m3.022    \u001b[39m | \u001b[39m0.5414   \u001b[39m |\n",
            "| \u001b[39m27       \u001b[39m | \u001b[39m0.75     \u001b[39m | \u001b[39m0.8653   \u001b[39m | \u001b[39m4.686    \u001b[39m | \u001b[39m0.2828   \u001b[39m | \u001b[39m9.97     \u001b[39m | \u001b[39m3.522    \u001b[39m | \u001b[39m3.182    \u001b[39m | \u001b[39m1.997    \u001b[39m | \u001b[39m3.142    \u001b[39m | \u001b[39m0.9448   \u001b[39m |\n",
            "| \u001b[39m28       \u001b[39m | \u001b[39m0.7539   \u001b[39m | \u001b[39m0.8948   \u001b[39m | \u001b[39m3.944    \u001b[39m | \u001b[39m0.244    \u001b[39m | \u001b[39m5.283    \u001b[39m | \u001b[39m9.782    \u001b[39m | \u001b[39m0.06586  \u001b[39m | \u001b[39m1.836    \u001b[39m | \u001b[39m3.545    \u001b[39m | \u001b[39m0.8891   \u001b[39m |\n",
            "| \u001b[39m29       \u001b[39m | \u001b[39m0.7357   \u001b[39m | \u001b[39m0.8112   \u001b[39m | \u001b[39m3.013    \u001b[39m | \u001b[39m0.1482   \u001b[39m | \u001b[39m3.364    \u001b[39m | \u001b[39m1.47     \u001b[39m | \u001b[39m9.678    \u001b[39m | \u001b[39m9.579    \u001b[39m | \u001b[39m3.403    \u001b[39m | \u001b[39m0.8958   \u001b[39m |\n",
            "| \u001b[39m30       \u001b[39m | \u001b[39m0.7505   \u001b[39m | \u001b[39m0.5346   \u001b[39m | \u001b[39m3.496    \u001b[39m | \u001b[39m0.2574   \u001b[39m | \u001b[39m9.828    \u001b[39m | \u001b[39m2.84     \u001b[39m | \u001b[39m9.935    \u001b[39m | \u001b[39m9.03     \u001b[39m | \u001b[39m3.642    \u001b[39m | \u001b[39m0.661    \u001b[39m |\n",
            "| \u001b[39m31       \u001b[39m | \u001b[39m0.7462   \u001b[39m | \u001b[39m0.8036   \u001b[39m | \u001b[39m0.7899   \u001b[39m | \u001b[39m0.2128   \u001b[39m | \u001b[39m4.792    \u001b[39m | \u001b[39m9.497    \u001b[39m | \u001b[39m0.1033   \u001b[39m | \u001b[39m0.6043   \u001b[39m | \u001b[39m3.511    \u001b[39m | \u001b[39m0.5148   \u001b[39m |\n",
            "| \u001b[39m32       \u001b[39m | \u001b[39m0.7406   \u001b[39m | \u001b[39m0.789    \u001b[39m | \u001b[39m4.963    \u001b[39m | \u001b[39m0.06412  \u001b[39m | \u001b[39m5.759    \u001b[39m | \u001b[39m9.488    \u001b[39m | \u001b[39m2.899    \u001b[39m | \u001b[39m0.2767   \u001b[39m | \u001b[39m3.833    \u001b[39m | \u001b[39m0.9292   \u001b[39m |\n",
            "| \u001b[39m33       \u001b[39m | \u001b[39m0.7491   \u001b[39m | \u001b[39m0.5954   \u001b[39m | \u001b[39m2.542    \u001b[39m | \u001b[39m0.2107   \u001b[39m | \u001b[39m9.195    \u001b[39m | \u001b[39m5.328    \u001b[39m | \u001b[39m0.1746   \u001b[39m | \u001b[39m3.593    \u001b[39m | \u001b[39m3.754    \u001b[39m | \u001b[39m0.7725   \u001b[39m |\n",
            "| \u001b[39m34       \u001b[39m | \u001b[39m0.7373   \u001b[39m | \u001b[39m0.8328   \u001b[39m | \u001b[39m4.229    \u001b[39m | \u001b[39m0.01597  \u001b[39m | \u001b[39m9.487    \u001b[39m | \u001b[39m1.629    \u001b[39m | \u001b[39m0.04062  \u001b[39m | \u001b[39m0.5303   \u001b[39m | \u001b[39m3.129    \u001b[39m | \u001b[39m0.8681   \u001b[39m |\n",
            "| \u001b[39m35       \u001b[39m | \u001b[39m0.756    \u001b[39m | \u001b[39m0.5629   \u001b[39m | \u001b[39m1.147    \u001b[39m | \u001b[39m0.1903   \u001b[39m | \u001b[39m7.283    \u001b[39m | \u001b[39m2.11     \u001b[39m | \u001b[39m8.508    \u001b[39m | \u001b[39m9.717    \u001b[39m | \u001b[39m3.916    \u001b[39m | \u001b[39m0.8041   \u001b[39m |\n",
            "| \u001b[39m36       \u001b[39m | \u001b[39m0.7519   \u001b[39m | \u001b[39m0.634    \u001b[39m | \u001b[39m2.938    \u001b[39m | \u001b[39m0.232    \u001b[39m | \u001b[39m5.828    \u001b[39m | \u001b[39m8.933    \u001b[39m | \u001b[39m0.1785   \u001b[39m | \u001b[39m4.249    \u001b[39m | \u001b[39m3.753    \u001b[39m | \u001b[39m0.6838   \u001b[39m |\n",
            "| \u001b[39m37       \u001b[39m | \u001b[39m0.7549   \u001b[39m | \u001b[39m0.9117   \u001b[39m | \u001b[39m4.994    \u001b[39m | \u001b[39m0.08627  \u001b[39m | \u001b[39m9.995    \u001b[39m | \u001b[39m2.182    \u001b[39m | \u001b[39m3.424    \u001b[39m | \u001b[39m5.507    \u001b[39m | \u001b[39m3.977    \u001b[39m | \u001b[39m0.6723   \u001b[39m |\n",
            "| \u001b[39m38       \u001b[39m | \u001b[39m0.7572   \u001b[39m | \u001b[39m0.9291   \u001b[39m | \u001b[39m3.839    \u001b[39m | \u001b[39m0.1479   \u001b[39m | \u001b[39m9.017    \u001b[39m | \u001b[39m1.127    \u001b[39m | \u001b[39m7.035    \u001b[39m | \u001b[39m9.663    \u001b[39m | \u001b[39m3.424    \u001b[39m | \u001b[39m0.7214   \u001b[39m |\n",
            "| \u001b[39m39       \u001b[39m | \u001b[39m0.7457   \u001b[39m | \u001b[39m0.5953   \u001b[39m | \u001b[39m4.555    \u001b[39m | \u001b[39m0.2771   \u001b[39m | \u001b[39m9.988    \u001b[39m | \u001b[39m1.791    \u001b[39m | \u001b[39m5.788    \u001b[39m | \u001b[39m7.242    \u001b[39m | \u001b[39m3.224    \u001b[39m | \u001b[39m0.6344   \u001b[39m |\n",
            "| \u001b[39m40       \u001b[39m | \u001b[39m0.7503   \u001b[39m | \u001b[39m0.7779   \u001b[39m | \u001b[39m4.566    \u001b[39m | \u001b[39m0.2458   \u001b[39m | \u001b[39m9.002    \u001b[39m | \u001b[39m1.023    \u001b[39m | \u001b[39m8.99     \u001b[39m | \u001b[39m9.844    \u001b[39m | \u001b[39m3.585    \u001b[39m | \u001b[39m0.675    \u001b[39m |\n",
            "=====================================================================================================================================\n",
            "Best parameters found:\n",
            "{'target': np.float64(0.7590446111755902), 'params': {'colsample_bytree': np.float64(0.8172779598859746), 'gamma': np.float64(1.2738712393427747), 'learning_rate': np.float64(0.27315565712485607), 'max_depth': np.float64(6.11313799622838), 'min_child_weight': np.float64(2.5392997421430485), 'reg_alpha': np.float64(9.852882637552135), 'reg_lambda': np.float64(9.505188483280282), 'scale_pos_weight': np.float64(3.244760379946825), 'subsample': np.float64(0.9852992961244968)}}\n"
          ]
        }
      ],
      "source": [
        "# Convert to DMatrix format for xgboost (better for bayesian optimization)\n",
        "dtrain = xgb.DMatrix(X_train, label=y_train, enable_categorical=True)\n",
        "dval = xgb.DMatrix(X_test, label=y_test, enable_categorical=True)\n",
        "\n",
        "def xgb_eval(learning_rate, max_depth, min_child_weight, subsample, colsample_bytree, gamma, reg_alpha, reg_lambda, scale_pos_weight):\n",
        "    \"\"\"\n",
        "    XGBoost evaluation function for Bayesian optimization\n",
        "    \"\"\"\n",
        "    params = {\n",
        "        'objective': 'binary:logistic',\n",
        "        'eval_metric': 'aucpr',  # AUC-PR is better for imbalanced rain prediction\n",
        "        'learning_rate': max(min(learning_rate, 0.3), 0.01),  # Clipped between 0.01-0.3\n",
        "        'max_depth': int(max_depth),\n",
        "        'min_child_weight': int(min_child_weight),\n",
        "        'subsample': max(min(subsample, 1), 0.5),\n",
        "        'colsample_bytree': max(min(colsample_bytree, 1), 0.5),\n",
        "        'gamma': max(gamma, 0),\n",
        "        'reg_alpha': max(reg_alpha, 0),\n",
        "        'reg_lambda': max(reg_lambda, 0),\n",
        "        'scale_pos_weight': max(scale_pos_weight, 1),\n",
        "        'tree_method': 'hist',\n",
        "        'seed': 42\n",
        "    }\n",
        "\n",
        "    # Train with early stopping\n",
        "    model = xgb.XGBClassifier(**params, enable_categorical=True,)\n",
        "    model.fit(\n",
        "        X_train, y_train,\n",
        "\n",
        "        eval_set=[(X_test, y_test)],\n",
        "        verbose=0\n",
        "    )\n",
        "\n",
        "    # Get predictions and calculate multiple metrics\n",
        "    y_pred = model.predict_proba(X_test)[:, 1]\n",
        "    auc_pr = average_precision_score(y_test, y_pred)\n",
        "\n",
        "    # You can return other metrics if needed\n",
        "    return auc_pr\n",
        "\n",
        "# Define the parameter bounds\n",
        "pbounds = {\n",
        "    'learning_rate': (0.01, 0.3),\n",
        "    'max_depth': (3, 10),\n",
        "    'min_child_weight': (1, 10),\n",
        "    'subsample': (0.5, 1),\n",
        "    'colsample_bytree': (0.5, 1),\n",
        "    'gamma': (0, 5),\n",
        "    'reg_alpha': (0, 10),\n",
        "    'reg_lambda': (0, 10),\n",
        "    'scale_pos_weight': (3, 4)  \n",
        "}\n",
        "\n",
        "# Initialize Bayesian optimizer\n",
        "optimizer = BayesianOptimization(\n",
        "    f=xgb_eval,\n",
        "    pbounds=pbounds,\n",
        "    random_state=42,\n",
        "    verbose=2\n",
        ")\n",
        "\n",
        "# Run optimization\n",
        "optimizer.maximize(\n",
        "    init_points=10,  \n",
        "    n_iter=30,       \n",
        ")\n",
        "\n",
        "# Print the best parameters found\n",
        "print(\"Best parameters found:\")\n",
        "print(optimizer.max)\n",
        "\n",
        "best_params = optimizer.max['params']"
      ]
    },
    {
      "cell_type": "code",
      "execution_count": 33,
      "metadata": {
        "colab": {
          "base_uri": "https://localhost:8080/",
          "height": 1000
        },
        "id": "uoetNJ1sLSfh",
        "outputId": "0c83c6de-87ff-4302-e321-ddd3208e87ba"
      },
      "outputs": [
        {
          "data": {
            "text/html": [
              "<style>#sk-container-id-1 {\n",
              "  /* Definition of color scheme common for light and dark mode */\n",
              "  --sklearn-color-text: black;\n",
              "  --sklearn-color-line: gray;\n",
              "  /* Definition of color scheme for unfitted estimators */\n",
              "  --sklearn-color-unfitted-level-0: #fff5e6;\n",
              "  --sklearn-color-unfitted-level-1: #f6e4d2;\n",
              "  --sklearn-color-unfitted-level-2: #ffe0b3;\n",
              "  --sklearn-color-unfitted-level-3: chocolate;\n",
              "  /* Definition of color scheme for fitted estimators */\n",
              "  --sklearn-color-fitted-level-0: #f0f8ff;\n",
              "  --sklearn-color-fitted-level-1: #d4ebff;\n",
              "  --sklearn-color-fitted-level-2: #b3dbfd;\n",
              "  --sklearn-color-fitted-level-3: cornflowerblue;\n",
              "\n",
              "  /* Specific color for light theme */\n",
              "  --sklearn-color-text-on-default-background: var(--sg-text-color, var(--theme-code-foreground, var(--jp-content-font-color1, black)));\n",
              "  --sklearn-color-background: var(--sg-background-color, var(--theme-background, var(--jp-layout-color0, white)));\n",
              "  --sklearn-color-border-box: var(--sg-text-color, var(--theme-code-foreground, var(--jp-content-font-color1, black)));\n",
              "  --sklearn-color-icon: #696969;\n",
              "\n",
              "  @media (prefers-color-scheme: dark) {\n",
              "    /* Redefinition of color scheme for dark theme */\n",
              "    --sklearn-color-text-on-default-background: var(--sg-text-color, var(--theme-code-foreground, var(--jp-content-font-color1, white)));\n",
              "    --sklearn-color-background: var(--sg-background-color, var(--theme-background, var(--jp-layout-color0, #111)));\n",
              "    --sklearn-color-border-box: var(--sg-text-color, var(--theme-code-foreground, var(--jp-content-font-color1, white)));\n",
              "    --sklearn-color-icon: #878787;\n",
              "  }\n",
              "}\n",
              "\n",
              "#sk-container-id-1 {\n",
              "  color: var(--sklearn-color-text);\n",
              "}\n",
              "\n",
              "#sk-container-id-1 pre {\n",
              "  padding: 0;\n",
              "}\n",
              "\n",
              "#sk-container-id-1 input.sk-hidden--visually {\n",
              "  border: 0;\n",
              "  clip: rect(1px 1px 1px 1px);\n",
              "  clip: rect(1px, 1px, 1px, 1px);\n",
              "  height: 1px;\n",
              "  margin: -1px;\n",
              "  overflow: hidden;\n",
              "  padding: 0;\n",
              "  position: absolute;\n",
              "  width: 1px;\n",
              "}\n",
              "\n",
              "#sk-container-id-1 div.sk-dashed-wrapped {\n",
              "  border: 1px dashed var(--sklearn-color-line);\n",
              "  margin: 0 0.4em 0.5em 0.4em;\n",
              "  box-sizing: border-box;\n",
              "  padding-bottom: 0.4em;\n",
              "  background-color: var(--sklearn-color-background);\n",
              "}\n",
              "\n",
              "#sk-container-id-1 div.sk-container {\n",
              "  /* jupyter's `normalize.less` sets `[hidden] { display: none; }`\n",
              "     but bootstrap.min.css set `[hidden] { display: none !important; }`\n",
              "     so we also need the `!important` here to be able to override the\n",
              "     default hidden behavior on the sphinx rendered scikit-learn.org.\n",
              "     See: https://github.com/scikit-learn/scikit-learn/issues/21755 */\n",
              "  display: inline-block !important;\n",
              "  position: relative;\n",
              "}\n",
              "\n",
              "#sk-container-id-1 div.sk-text-repr-fallback {\n",
              "  display: none;\n",
              "}\n",
              "\n",
              "div.sk-parallel-item,\n",
              "div.sk-serial,\n",
              "div.sk-item {\n",
              "  /* draw centered vertical line to link estimators */\n",
              "  background-image: linear-gradient(var(--sklearn-color-text-on-default-background), var(--sklearn-color-text-on-default-background));\n",
              "  background-size: 2px 100%;\n",
              "  background-repeat: no-repeat;\n",
              "  background-position: center center;\n",
              "}\n",
              "\n",
              "/* Parallel-specific style estimator block */\n",
              "\n",
              "#sk-container-id-1 div.sk-parallel-item::after {\n",
              "  content: \"\";\n",
              "  width: 100%;\n",
              "  border-bottom: 2px solid var(--sklearn-color-text-on-default-background);\n",
              "  flex-grow: 1;\n",
              "}\n",
              "\n",
              "#sk-container-id-1 div.sk-parallel {\n",
              "  display: flex;\n",
              "  align-items: stretch;\n",
              "  justify-content: center;\n",
              "  background-color: var(--sklearn-color-background);\n",
              "  position: relative;\n",
              "}\n",
              "\n",
              "#sk-container-id-1 div.sk-parallel-item {\n",
              "  display: flex;\n",
              "  flex-direction: column;\n",
              "}\n",
              "\n",
              "#sk-container-id-1 div.sk-parallel-item:first-child::after {\n",
              "  align-self: flex-end;\n",
              "  width: 50%;\n",
              "}\n",
              "\n",
              "#sk-container-id-1 div.sk-parallel-item:last-child::after {\n",
              "  align-self: flex-start;\n",
              "  width: 50%;\n",
              "}\n",
              "\n",
              "#sk-container-id-1 div.sk-parallel-item:only-child::after {\n",
              "  width: 0;\n",
              "}\n",
              "\n",
              "/* Serial-specific style estimator block */\n",
              "\n",
              "#sk-container-id-1 div.sk-serial {\n",
              "  display: flex;\n",
              "  flex-direction: column;\n",
              "  align-items: center;\n",
              "  background-color: var(--sklearn-color-background);\n",
              "  padding-right: 1em;\n",
              "  padding-left: 1em;\n",
              "}\n",
              "\n",
              "\n",
              "/* Toggleable style: style used for estimator/Pipeline/ColumnTransformer box that is\n",
              "clickable and can be expanded/collapsed.\n",
              "- Pipeline and ColumnTransformer use this feature and define the default style\n",
              "- Estimators will overwrite some part of the style using the `sk-estimator` class\n",
              "*/\n",
              "\n",
              "/* Pipeline and ColumnTransformer style (default) */\n",
              "\n",
              "#sk-container-id-1 div.sk-toggleable {\n",
              "  /* Default theme specific background. It is overwritten whether we have a\n",
              "  specific estimator or a Pipeline/ColumnTransformer */\n",
              "  background-color: var(--sklearn-color-background);\n",
              "}\n",
              "\n",
              "/* Toggleable label */\n",
              "#sk-container-id-1 label.sk-toggleable__label {\n",
              "  cursor: pointer;\n",
              "  display: block;\n",
              "  width: 100%;\n",
              "  margin-bottom: 0;\n",
              "  padding: 0.5em;\n",
              "  box-sizing: border-box;\n",
              "  text-align: center;\n",
              "}\n",
              "\n",
              "#sk-container-id-1 label.sk-toggleable__label-arrow:before {\n",
              "  /* Arrow on the left of the label */\n",
              "  content: \"▸\";\n",
              "  float: left;\n",
              "  margin-right: 0.25em;\n",
              "  color: var(--sklearn-color-icon);\n",
              "}\n",
              "\n",
              "#sk-container-id-1 label.sk-toggleable__label-arrow:hover:before {\n",
              "  color: var(--sklearn-color-text);\n",
              "}\n",
              "\n",
              "/* Toggleable content - dropdown */\n",
              "\n",
              "#sk-container-id-1 div.sk-toggleable__content {\n",
              "  max-height: 0;\n",
              "  max-width: 0;\n",
              "  overflow: hidden;\n",
              "  text-align: left;\n",
              "  /* unfitted */\n",
              "  background-color: var(--sklearn-color-unfitted-level-0);\n",
              "}\n",
              "\n",
              "#sk-container-id-1 div.sk-toggleable__content.fitted {\n",
              "  /* fitted */\n",
              "  background-color: var(--sklearn-color-fitted-level-0);\n",
              "}\n",
              "\n",
              "#sk-container-id-1 div.sk-toggleable__content pre {\n",
              "  margin: 0.2em;\n",
              "  border-radius: 0.25em;\n",
              "  color: var(--sklearn-color-text);\n",
              "  /* unfitted */\n",
              "  background-color: var(--sklearn-color-unfitted-level-0);\n",
              "}\n",
              "\n",
              "#sk-container-id-1 div.sk-toggleable__content.fitted pre {\n",
              "  /* unfitted */\n",
              "  background-color: var(--sklearn-color-fitted-level-0);\n",
              "}\n",
              "\n",
              "#sk-container-id-1 input.sk-toggleable__control:checked~div.sk-toggleable__content {\n",
              "  /* Expand drop-down */\n",
              "  max-height: 200px;\n",
              "  max-width: 100%;\n",
              "  overflow: auto;\n",
              "}\n",
              "\n",
              "#sk-container-id-1 input.sk-toggleable__control:checked~label.sk-toggleable__label-arrow:before {\n",
              "  content: \"▾\";\n",
              "}\n",
              "\n",
              "/* Pipeline/ColumnTransformer-specific style */\n",
              "\n",
              "#sk-container-id-1 div.sk-label input.sk-toggleable__control:checked~label.sk-toggleable__label {\n",
              "  color: var(--sklearn-color-text);\n",
              "  background-color: var(--sklearn-color-unfitted-level-2);\n",
              "}\n",
              "\n",
              "#sk-container-id-1 div.sk-label.fitted input.sk-toggleable__control:checked~label.sk-toggleable__label {\n",
              "  background-color: var(--sklearn-color-fitted-level-2);\n",
              "}\n",
              "\n",
              "/* Estimator-specific style */\n",
              "\n",
              "/* Colorize estimator box */\n",
              "#sk-container-id-1 div.sk-estimator input.sk-toggleable__control:checked~label.sk-toggleable__label {\n",
              "  /* unfitted */\n",
              "  background-color: var(--sklearn-color-unfitted-level-2);\n",
              "}\n",
              "\n",
              "#sk-container-id-1 div.sk-estimator.fitted input.sk-toggleable__control:checked~label.sk-toggleable__label {\n",
              "  /* fitted */\n",
              "  background-color: var(--sklearn-color-fitted-level-2);\n",
              "}\n",
              "\n",
              "#sk-container-id-1 div.sk-label label.sk-toggleable__label,\n",
              "#sk-container-id-1 div.sk-label label {\n",
              "  /* The background is the default theme color */\n",
              "  color: var(--sklearn-color-text-on-default-background);\n",
              "}\n",
              "\n",
              "/* On hover, darken the color of the background */\n",
              "#sk-container-id-1 div.sk-label:hover label.sk-toggleable__label {\n",
              "  color: var(--sklearn-color-text);\n",
              "  background-color: var(--sklearn-color-unfitted-level-2);\n",
              "}\n",
              "\n",
              "/* Label box, darken color on hover, fitted */\n",
              "#sk-container-id-1 div.sk-label.fitted:hover label.sk-toggleable__label.fitted {\n",
              "  color: var(--sklearn-color-text);\n",
              "  background-color: var(--sklearn-color-fitted-level-2);\n",
              "}\n",
              "\n",
              "/* Estimator label */\n",
              "\n",
              "#sk-container-id-1 div.sk-label label {\n",
              "  font-family: monospace;\n",
              "  font-weight: bold;\n",
              "  display: inline-block;\n",
              "  line-height: 1.2em;\n",
              "}\n",
              "\n",
              "#sk-container-id-1 div.sk-label-container {\n",
              "  text-align: center;\n",
              "}\n",
              "\n",
              "/* Estimator-specific */\n",
              "#sk-container-id-1 div.sk-estimator {\n",
              "  font-family: monospace;\n",
              "  border: 1px dotted var(--sklearn-color-border-box);\n",
              "  border-radius: 0.25em;\n",
              "  box-sizing: border-box;\n",
              "  margin-bottom: 0.5em;\n",
              "  /* unfitted */\n",
              "  background-color: var(--sklearn-color-unfitted-level-0);\n",
              "}\n",
              "\n",
              "#sk-container-id-1 div.sk-estimator.fitted {\n",
              "  /* fitted */\n",
              "  background-color: var(--sklearn-color-fitted-level-0);\n",
              "}\n",
              "\n",
              "/* on hover */\n",
              "#sk-container-id-1 div.sk-estimator:hover {\n",
              "  /* unfitted */\n",
              "  background-color: var(--sklearn-color-unfitted-level-2);\n",
              "}\n",
              "\n",
              "#sk-container-id-1 div.sk-estimator.fitted:hover {\n",
              "  /* fitted */\n",
              "  background-color: var(--sklearn-color-fitted-level-2);\n",
              "}\n",
              "\n",
              "/* Specification for estimator info (e.g. \"i\" and \"?\") */\n",
              "\n",
              "/* Common style for \"i\" and \"?\" */\n",
              "\n",
              ".sk-estimator-doc-link,\n",
              "a:link.sk-estimator-doc-link,\n",
              "a:visited.sk-estimator-doc-link {\n",
              "  float: right;\n",
              "  font-size: smaller;\n",
              "  line-height: 1em;\n",
              "  font-family: monospace;\n",
              "  background-color: var(--sklearn-color-background);\n",
              "  border-radius: 1em;\n",
              "  height: 1em;\n",
              "  width: 1em;\n",
              "  text-decoration: none !important;\n",
              "  margin-left: 1ex;\n",
              "  /* unfitted */\n",
              "  border: var(--sklearn-color-unfitted-level-1) 1pt solid;\n",
              "  color: var(--sklearn-color-unfitted-level-1);\n",
              "}\n",
              "\n",
              ".sk-estimator-doc-link.fitted,\n",
              "a:link.sk-estimator-doc-link.fitted,\n",
              "a:visited.sk-estimator-doc-link.fitted {\n",
              "  /* fitted */\n",
              "  border: var(--sklearn-color-fitted-level-1) 1pt solid;\n",
              "  color: var(--sklearn-color-fitted-level-1);\n",
              "}\n",
              "\n",
              "/* On hover */\n",
              "div.sk-estimator:hover .sk-estimator-doc-link:hover,\n",
              ".sk-estimator-doc-link:hover,\n",
              "div.sk-label-container:hover .sk-estimator-doc-link:hover,\n",
              ".sk-estimator-doc-link:hover {\n",
              "  /* unfitted */\n",
              "  background-color: var(--sklearn-color-unfitted-level-3);\n",
              "  color: var(--sklearn-color-background);\n",
              "  text-decoration: none;\n",
              "}\n",
              "\n",
              "div.sk-estimator.fitted:hover .sk-estimator-doc-link.fitted:hover,\n",
              ".sk-estimator-doc-link.fitted:hover,\n",
              "div.sk-label-container:hover .sk-estimator-doc-link.fitted:hover,\n",
              ".sk-estimator-doc-link.fitted:hover {\n",
              "  /* fitted */\n",
              "  background-color: var(--sklearn-color-fitted-level-3);\n",
              "  color: var(--sklearn-color-background);\n",
              "  text-decoration: none;\n",
              "}\n",
              "\n",
              "/* Span, style for the box shown on hovering the info icon */\n",
              ".sk-estimator-doc-link span {\n",
              "  display: none;\n",
              "  z-index: 9999;\n",
              "  position: relative;\n",
              "  font-weight: normal;\n",
              "  right: .2ex;\n",
              "  padding: .5ex;\n",
              "  margin: .5ex;\n",
              "  width: min-content;\n",
              "  min-width: 20ex;\n",
              "  max-width: 50ex;\n",
              "  color: var(--sklearn-color-text);\n",
              "  box-shadow: 2pt 2pt 4pt #999;\n",
              "  /* unfitted */\n",
              "  background: var(--sklearn-color-unfitted-level-0);\n",
              "  border: .5pt solid var(--sklearn-color-unfitted-level-3);\n",
              "}\n",
              "\n",
              ".sk-estimator-doc-link.fitted span {\n",
              "  /* fitted */\n",
              "  background: var(--sklearn-color-fitted-level-0);\n",
              "  border: var(--sklearn-color-fitted-level-3);\n",
              "}\n",
              "\n",
              ".sk-estimator-doc-link:hover span {\n",
              "  display: block;\n",
              "}\n",
              "\n",
              "/* \"?\"-specific style due to the `<a>` HTML tag */\n",
              "\n",
              "#sk-container-id-1 a.estimator_doc_link {\n",
              "  float: right;\n",
              "  font-size: 1rem;\n",
              "  line-height: 1em;\n",
              "  font-family: monospace;\n",
              "  background-color: var(--sklearn-color-background);\n",
              "  border-radius: 1rem;\n",
              "  height: 1rem;\n",
              "  width: 1rem;\n",
              "  text-decoration: none;\n",
              "  /* unfitted */\n",
              "  color: var(--sklearn-color-unfitted-level-1);\n",
              "  border: var(--sklearn-color-unfitted-level-1) 1pt solid;\n",
              "}\n",
              "\n",
              "#sk-container-id-1 a.estimator_doc_link.fitted {\n",
              "  /* fitted */\n",
              "  border: var(--sklearn-color-fitted-level-1) 1pt solid;\n",
              "  color: var(--sklearn-color-fitted-level-1);\n",
              "}\n",
              "\n",
              "/* On hover */\n",
              "#sk-container-id-1 a.estimator_doc_link:hover {\n",
              "  /* unfitted */\n",
              "  background-color: var(--sklearn-color-unfitted-level-3);\n",
              "  color: var(--sklearn-color-background);\n",
              "  text-decoration: none;\n",
              "}\n",
              "\n",
              "#sk-container-id-1 a.estimator_doc_link.fitted:hover {\n",
              "  /* fitted */\n",
              "  background-color: var(--sklearn-color-fitted-level-3);\n",
              "}\n",
              "</style><div id=\"sk-container-id-1\" class=\"sk-top-container\"><div class=\"sk-text-repr-fallback\"><pre>XGBClassifier(base_score=None, booster=None, callbacks=None,\n",
              "              colsample_bylevel=None, colsample_bynode=None,\n",
              "              colsample_bytree=np.float64(0.8172779598859746), device=None,\n",
              "              early_stopping_rounds=None, enable_categorical=True,\n",
              "              eval_metric=None, feature_types=None, feature_weights=None,\n",
              "              gamma=np.float64(1.2738712393427747), grow_policy=None,\n",
              "              importance_type=None, interaction_constraints=None,\n",
              "              learning_rate=np.float64(0.27315565712485607), max_bin=None,\n",
              "              max_cat_threshold=None, max_cat_to_onehot=None,\n",
              "              max_delta_step=None, max_depth=6, max_leaves=None,\n",
              "              min_child_weight=2, missing=nan, monotone_constraints=None,\n",
              "              multi_strategy=None, n_estimators=None, n_jobs=None,\n",
              "              num_parallel_tree=None, ...)</pre><b>In a Jupyter environment, please rerun this cell to show the HTML representation or trust the notebook. <br />On GitHub, the HTML representation is unable to render, please try loading this page with nbviewer.org.</b></div><div class=\"sk-container\" hidden><div class=\"sk-item\"><div class=\"sk-estimator fitted sk-toggleable\"><input class=\"sk-toggleable__control sk-hidden--visually\" id=\"sk-estimator-id-1\" type=\"checkbox\" checked><label for=\"sk-estimator-id-1\" class=\"sk-toggleable__label fitted sk-toggleable__label-arrow fitted\">&nbsp;&nbsp;XGBClassifier<a class=\"sk-estimator-doc-link fitted\" rel=\"noreferrer\" target=\"_blank\" href=\"https://xgboost.readthedocs.io/en/release_3.0.0/python/python_api.html#xgboost.XGBClassifier\">?<span>Documentation for XGBClassifier</span></a><span class=\"sk-estimator-doc-link fitted\">i<span>Fitted</span></span></label><div class=\"sk-toggleable__content fitted\"><pre>XGBClassifier(base_score=None, booster=None, callbacks=None,\n",
              "              colsample_bylevel=None, colsample_bynode=None,\n",
              "              colsample_bytree=np.float64(0.8172779598859746), device=None,\n",
              "              early_stopping_rounds=None, enable_categorical=True,\n",
              "              eval_metric=None, feature_types=None, feature_weights=None,\n",
              "              gamma=np.float64(1.2738712393427747), grow_policy=None,\n",
              "              importance_type=None, interaction_constraints=None,\n",
              "              learning_rate=np.float64(0.27315565712485607), max_bin=None,\n",
              "              max_cat_threshold=None, max_cat_to_onehot=None,\n",
              "              max_delta_step=None, max_depth=6, max_leaves=None,\n",
              "              min_child_weight=2, missing=nan, monotone_constraints=None,\n",
              "              multi_strategy=None, n_estimators=None, n_jobs=None,\n",
              "              num_parallel_tree=None, ...)</pre></div> </div></div></div></div>"
            ],
            "text/plain": [
              "XGBClassifier(base_score=None, booster=None, callbacks=None,\n",
              "              colsample_bylevel=None, colsample_bynode=None,\n",
              "              colsample_bytree=np.float64(0.8172779598859746), device=None,\n",
              "              early_stopping_rounds=None, enable_categorical=True,\n",
              "              eval_metric=None, feature_types=None, feature_weights=None,\n",
              "              gamma=np.float64(1.2738712393427747), grow_policy=None,\n",
              "              importance_type=None, interaction_constraints=None,\n",
              "              learning_rate=np.float64(0.27315565712485607), max_bin=None,\n",
              "              max_cat_threshold=None, max_cat_to_onehot=None,\n",
              "              max_delta_step=None, max_depth=6, max_leaves=None,\n",
              "              min_child_weight=2, missing=nan, monotone_constraints=None,\n",
              "              multi_strategy=None, n_estimators=None, n_jobs=None,\n",
              "              num_parallel_tree=None, ...)"
            ]
          },
          "execution_count": 33,
          "metadata": {},
          "output_type": "execute_result"
        }
      ],
      "source": [
        "# ensuring that max_depth and min_child_weight are integers\n",
        "best_params['max_depth'] = int(best_params['max_depth'])\n",
        "best_params['min_child_weight'] = int(best_params['min_child_weight'])\n",
        "\n",
        "# \n",
        "final_model = xgb.XGBClassifier(\n",
        "    objective='binary:logistic',\n",
        "    enable_categorical=True,\n",
        "    **best_params\n",
        ")\n",
        "\n",
        "final_model.fit(\n",
        "    X_train, y_train,\n",
        "    eval_set=[(X_test, y_test)],\n",
        "    verbose=0\n",
        ")"
      ]
    },
    {
      "cell_type": "code",
      "execution_count": 34,
      "metadata": {
        "colab": {
          "base_uri": "https://localhost:8080/"
        },
        "id": "dWUVmwezJL6e",
        "outputId": "a9905f78-5131-42e3-9374-20e839483972"
      },
      "outputs": [
        {
          "name": "stdout",
          "output_type": "stream",
          "text": [
            "\n",
            "Final Model Evaluation:\n",
            "Accuracy: 0.8357\n",
            "AUC-PR: 0.7579\n",
            "Precision: 0.6051\n",
            "Recall: 0.7579\n",
            "F1 Score: 0.6729\n",
            "              precision    recall  f1-score   support\n",
            "\n",
            "           0       0.93      0.86      0.89     22098\n",
            "           1       0.61      0.76      0.67      6341\n",
            "\n",
            "    accuracy                           0.84     28439\n",
            "   macro avg       0.77      0.81      0.78     28439\n",
            "weighted avg       0.85      0.84      0.84     28439\n",
            "\n",
            "ROC_AUC Score: 0.8958586850914527\n"
          ]
        }
      ],
      "source": [
        "# Evaluate final model\n",
        "y_pred_proba = final_model.predict_proba(X_test)[:, 1]\n",
        "y_pred = (y_pred_proba >= 0.53).astype(int)  \n",
        "\n",
        "print(\"\\nFinal Model Evaluation:\")\n",
        "print(f\"Accuracy: {accuracy_score(y_test, y_pred):.4f}\")\n",
        "print(f\"AUC-PR: {average_precision_score(y_test, y_pred_proba):.4f}\")\n",
        "print(f\"Precision: {precision_score(y_test, y_pred):.4f}\")\n",
        "print(f\"Recall: {recall_score(y_test, y_pred):.4f}\")\n",
        "print(f\"F1 Score: {f1_score(y_test, y_pred):.4f}\")\n",
        "print(classification_report(y_test, y_pred))\n",
        "print(f\"ROC_AUC Score: {roc_auc_score(y_test, y_pred_prob[:, 1])}\")"
      ]
    },
    {
      "cell_type": "markdown",
      "metadata": {},
      "source": [
        "> The final model accuracy is `0.8357` and null accuracy is `0.7755`, so our model is doing a very good job in predicting the class labels.\n",
        "\n",
        "> The percentage of imporvemont in accuracy: `7.76%`"
      ]
    },
    {
      "cell_type": "code",
      "execution_count": 35,
      "metadata": {
        "id": "QJRTdM_LLyqu"
      },
      "outputs": [
        {
          "data": {
            "text/plain": [
              "['..\\\\models/xgboost_model.pkl']"
            ]
          },
          "execution_count": 35,
          "metadata": {},
          "output_type": "execute_result"
        }
      ],
      "source": [
        "model_path = config[\"artifacts_paths\"][\"xg_model_path\"]\n",
        "xg_model_path_full = os.path.join(\"..\", model_path.replace(\"\\\\\", \"/\"))\n",
        "\n",
        "joblib.dump(final_model, xg_model_path_full)"
      ]
    }
  ],
  "metadata": {
    "colab": {
      "provenance": []
    },
    "kernelspec": {
      "display_name": "Python 3",
      "name": "python3"
    },
    "language_info": {
      "codemirror_mode": {
        "name": "ipython",
        "version": 3
      },
      "file_extension": ".py",
      "mimetype": "text/x-python",
      "name": "python",
      "nbconvert_exporter": "python",
      "pygments_lexer": "ipython3",
      "version": "3.13.0"
    }
  },
  "nbformat": 4,
  "nbformat_minor": 0
}
