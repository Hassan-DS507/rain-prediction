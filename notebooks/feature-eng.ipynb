{
 "cells": [
  {
   "cell_type": "markdown",
   "id": "aeec8c59",
   "metadata": {},
   "source": [
    "# Feature Engineering"
   ]
  },
  {
   "cell_type": "code",
   "execution_count": 2,
   "id": "6733be8b",
   "metadata": {},
   "outputs": [],
   "source": [
    "import pandas as pd\n",
    "import numpy as np\n",
    "import matplotlib.pyplot as plt\n",
    "import os\n",
    "import yaml"
   ]
  },
  {
   "cell_type": "code",
   "execution_count": 3,
   "id": "f6c891d7",
   "metadata": {},
   "outputs": [],
   "source": [
    "def correct_path(path_type, name):\n",
    "    config_path = os.path.join(\"..\", \"configs\", \"paths.yaml\")\n",
    "    with open(config_path, \"r\") as file:\n",
    "        config = yaml.safe_load(file)\n",
    "    \n",
    "    path = config[path_type][name]\n",
    "    full_path = os.path.join(\"..\", path.replace(\"\\\\\", \"/\"))\n",
    "    return full_path"
   ]
  },
  {
   "cell_type": "code",
   "execution_count": 4,
   "id": "1e20dd55",
   "metadata": {},
   "outputs": [],
   "source": [
    "# data loading\n",
    "data_path = correct_path(\"data_paths\", \"cleaned_data_path\")\n",
    "clean_data = pd.read_csv(data_path)"
   ]
  },
  {
   "cell_type": "markdown",
   "id": "ba30e7a9",
   "metadata": {},
   "source": [
    "**Chi-Square Test for Independence:**\n",
    "\n",
    "This test is used whether there is a significant relationship between two categorical variables.\n",
    "It is used to determine whether changes in one variable are independent of changes in another. This test is applied when we have counts of values for two nominal or categorical variables."
   ]
  },
  {
   "cell_type": "code",
   "execution_count": 5,
   "id": "e99f5016",
   "metadata": {},
   "outputs": [],
   "source": [
    "# categorical columns:\n",
    "cat_cols_FE = clean_data.select_dtypes(include=['object']).columns.difference(['RainTomorrow'])\n",
    "# target column\n",
    "target = 'RainTomorrow'"
   ]
  },
  {
   "cell_type": "markdown",
   "id": "c4fb29dc",
   "metadata": {},
   "source": [
    "### Make Hypothesis\n",
    "- Null hypothesis: No significant association between features\n",
    "- Alternate Hypothesis: There is a significant association between features."
   ]
  },
  {
   "cell_type": "code",
   "execution_count": null,
   "id": "8fd61f95",
   "metadata": {},
   "outputs": [],
   "source": [
    "from scipy.stats import chi2_contingency\n",
    "\n",
    "p_values = {}\n",
    "\n",
    "for col in cat_cols_FE:\n",
    "    # Create the contingency table\n",
    "    contingency_table = pd.crosstab(clean_data[col], clean_data[target])\n",
    "\n",
    "    # Perform Chi-Square test\n",
    "    chi2, p, dof, expected = chi2_contingency(contingency_table)\n",
    "\n",
    "    p_values[col] = p\n",
    "\n",
    "    print(f\"\\nChi-Square Test between '{col}' and '{target}'\")\n",
    "    print(f\"Chi2 Statistic = {chi2:.2f}, p-value = {p:.10f}\")\n",
    "    if p < 0.05:\n",
    "        print(\"Significant relationship (reject H0)\")\n",
    "    else:\n",
    "        print(\"No significant relationship (fail to reject H0)\")"
   ]
  },
  {
   "cell_type": "markdown",
   "id": "1671c72e",
   "metadata": {},
   "source": [
    "Chi-Square Test between 'Location' and 'RainTomorrow'\n",
    "Chi2 Statistic = 3472.46, p-value = 0.0000000000\n",
    "Significant relationship (reject H0)\n",
    "\n",
    "Chi-Square Test between 'RainToday' and 'RainTomorrow'\n",
    "Chi2 Statistic = 13595.74, p-value = 0.0000000000\n",
    "Significant relationship (reject H0)\n",
    "\n",
    "Chi-Square Test between 'Season' and 'RainTomorrow'\n",
    "Chi2 Statistic = 0.00, p-value = 1.0000000000\n",
    "No significant relationship (fail to reject H0)\n",
    "\n",
    "Chi-Square Test between 'WindDir3pm' and 'RainTomorrow'\n",
    "Chi2 Statistic = 1206.21, p-value = 0.0000000000\n",
    "Significant relationship (reject H0)\n",
    "\n",
    "Chi-Square Test between 'WindDir9am' and 'RainTomorrow'\n",
    "Chi2 Statistic = 1787.93, p-value = 0.0000000000\n",
    "Significant relationship (reject H0)\n",
    "\n",
    "Chi-Square Test between 'WindGustDir' and 'RainTomorrow'\n",
    "Chi2 Statistic = 1484.60, p-value = 0.0000000000\n",
    "Significant relationship (reject H0)"
   ]
  },
  {
   "cell_type": "markdown",
   "id": "67a8a89b",
   "metadata": {},
   "source": [
    "All columns have `p` values > 0.05 so all columns have a significant relationship with `RainTomorrow`."
   ]
  },
  {
   "cell_type": "markdown",
   "id": "6eadf845",
   "metadata": {},
   "source": [
    "##  Feature Engineering\n",
    "\n",
    "We engineered new features to enhance predictive power by capturing daily changes in weather variables.\n",
    "\n",
    "---\n",
    "\n",
    "###  1. TempDiff = MaxTemp − MinTemp  \n",
    "- **Logic:** Daytime temperature swing; smaller swings may coincide with rainy/cloudy days.\n",
    "\n",
    "###  2. WindSpeedAvg = (WindSpeed9am + WindSpeed3pm) / 2  \n",
    "- **Logic:** Daily average wind speed; windier conditions often precede rain.\n",
    "\n",
    "### 3. HumidityDiff = Humidity3pm − Humidity9am  \n",
    "- **Logic:** Change in humidity over the day; sustained high humidity can signal rain.\n",
    "\n",
    "###  4. PressureDiff = Pressure3pm − Pressure9am  \n",
    "- **Logic:** Drop in atmospheric pressure; low‐pressure systems often bring rain.\n",
    "\n",
    "###  5. CloudCoverAvg = (Cloud9am + Cloud3pm) / 2  \n",
    "- **Logic:** Daily average cloud cover; more clouds generally mean higher precipitation chance.\n",
    "\n",
    "### 6. RainToday = 1 if Rainfall > 0 else 0  \n",
    "- **Logic:** Flag for rain today; rainfall events tend to cluster day‐to‐day.\n",
    "\n",
    "###  7. WindGustDiff = WindGustSpeed − WindSpeedAvg  \n",
    "- **Logic:** Gust variability; strong gusts can be a precursor to storms.\n"
   ]
  },
  {
   "cell_type": "code",
   "execution_count": null,
   "id": "c84babfe",
   "metadata": {},
   "outputs": [],
   "source": [
    "# Create engineered features\n",
    "clean_data['TempDiff']      = clean_data['MaxTemp']   - clean_data['MinTemp']\n",
    "clean_data['WindSpeedAvg']  = clean_data[['WindSpeed9am', 'WindSpeed3pm']].mean(axis=1)\n",
    "clean_data['HumidityDiff']  = clean_data['Humidity3pm'] - clean_data['Humidity9am']\n",
    "clean_data['PressureDiff']  = clean_data['Pressure3pm'] - clean_data['Pressure9am']\n",
    "clean_data['CloudCoverAvg'] = clean_data[['Cloud9am', 'Cloud3pm']].mean(axis=1)\n",
    "clean_data['RainToday']     = (clean_data['Rainfall']    > 0).astype(int)\n",
    "clean_data['WindGustDiff']  = clean_data['WindGustSpeed'] - clean_data['WindSpeedAvg']\n"
   ]
  },
  {
   "cell_type": "markdown",
   "id": "2af07247",
   "metadata": {},
   "source": [
    "**Observation:**  \n",
    "Average wind speeds (`WindSpeedAvg`) are generally higher on days before rain, suggesting wind patterns can signal incoming systems.\n",
    "\n",
    "**Observation:**  \n",
    "The change in humidity (`HumidityDiff`) is smaller on rainy days, reflecting sustained high moisture levels throughout the day.\n"
   ]
  },
  {
   "cell_type": "markdown",
   "id": "53ba6661",
   "metadata": {},
   "source": [
    "## ANOVA Test on Numerical Features"
   ]
  },
  {
   "cell_type": "markdown",
   "id": "c0c90331",
   "metadata": {},
   "source": [
    "- Why use ANOVA?\n",
    "\n",
    "ANOVA (Analysis of Variance) is used to determine whether there are any statistically significant differences between the means of two or more independent groups. In this task, we use ANOVA to check whether the average values of numeric features differ significantly between the \"RainTomorrow = Yes\" and \"RainTomorrow = No\" groups.\n"
   ]
  },
  {
   "cell_type": "code",
   "execution_count": null,
   "id": "214a35c5",
   "metadata": {},
   "outputs": [],
   "source": [
    "from scipy.stats import f_oneway  # Import the ANOVA test from scipy\n",
    "# Select all numeric columns from the DataFrame\n",
    "numeric_cols = clean_data.select_dtypes(include='number').columns\n",
    "\n",
    "# Dictionary to store p-values for each numeric feature\n",
    "p_values = {}\n",
    "\n",
    "# Loop through each numeric column to perform ANOVA\n",
    "for col in numeric_cols:\n",
    "    # Split the column into two groups based on 'RainTomorrow' (Yes / No), dropping missing values\n",
    "    group_yes = clean_data[clean_data['RainTomorrow'] == 'Yes'][col].dropna()\n",
    "    group_no = clean_data[clean_data['RainTomorrow'] == 'No'][col].dropna()\n",
    "\n",
    "    # Perform one-way ANOVA test between the two groups\n",
    "    stat, p = f_oneway(group_yes, group_no)\n",
    "\n",
    "    # Store the p-value in the dictionary\n",
    "    p_values[col] = p\n",
    "\n",
    "# Convert the p-values dictionary to a DataFrame and sort by p-value (ascending)\n",
    "pval_df = pd.DataFrame.from_dict(p_values, orient='index', columns=['p_value']).sort_values('p_value')\n",
    "\n",
    "# Display the top 5 features with the lowest p-values\n",
    "# Print all p-values sorted in ascending order\n",
    "print(\"All p-values sorted (ascending):\")\n",
    "pval_df.head()"
   ]
  },
  {
   "cell_type": "markdown",
   "id": "df669e8b",
   "metadata": {},
   "source": [
    "All p-values sorted (ascending):"
   ]
  },
  {
   "cell_type": "markdown",
   "id": "bce21696",
   "metadata": {},
   "source": [
    "## P-Values Summary from ANOVA Test\n",
    "\n",
    "\n",
    "\n",
    "The table below shows the top numeric features ranked by their p-values from the ANOVA test comparing \"RainTomorrow = Yes\" vs \"RainTomorrow = No\":\n",
    "\n",
    "| Feature         | p-value |\n",
    "|-----------------|---------|\n",
    "| MaxTemp         | 0.0     |\n",
    "| Rainfall        | 0.0     |\n",
    "| WindGustSpeed   | 0.0     |\n",
    "| Sunshine        | 0.0     |\n",
    "| Pressure3pm     | 0.0     |\n",
    "\n",
    "These p-values are extremely small (close to 0), indicating that the differences in the means of these features between the two RainTomorrow groups are **statistically significant**.\n"
   ]
  },
  {
   "cell_type": "markdown",
   "id": "429fa76d",
   "metadata": {},
   "source": [
    "## Final Comment on Important Features:\n",
    "\n",
    "Based on the ANOVA test results, the features **MaxTemp**, **Rainfall**, **WindGustSpeed**, **Sunshine**, and **Pressure3pm** showed statistically significant differences between the \"RainTomorrow = Yes\" and \"RainTomorrow = No\" groups (p-value ≈ 0).\n",
    "\n",
    "This indicates that these features are important for predicting whether it will rain tomorrow and should be given special attention in any predictive modeling or feature selection process.\n"
   ]
  },
  {
   "cell_type": "markdown",
   "id": "783865f3",
   "metadata": {},
   "source": [
    "# Feature Engineering and Selection Process"
   ]
  },
  {
   "cell_type": "code",
   "execution_count": null,
   "id": "e6fd9059",
   "metadata": {},
   "outputs": [],
   "source": [
    "X=clean_data.drop(columns='RainTomorrow')\n",
    "y=clean_data['RainTomorrow']"
   ]
  },
  {
   "cell_type": "code",
   "execution_count": null,
   "id": "95e54a30",
   "metadata": {},
   "outputs": [],
   "source": [
    "from sklearn.preprocessing import LabelEncoder\n",
    "\n",
    "X_encoded = X.copy()\n",
    "for col in X_encoded.columns:\n",
    "    X_encoded[col] = LabelEncoder().fit_transform(X_encoded[col])\n"
   ]
  },
  {
   "cell_type": "code",
   "execution_count": null,
   "id": "5bb6d737",
   "metadata": {},
   "outputs": [],
   "source": [
    "from sklearn.feature_selection import chi2\n",
    "from sklearn.feature_selection import SelectKBest\n",
    "from scipy.stats import chi2_contingency\n",
    "\n",
    "# Assuming X is your feature matrix (categorical features encoded), and y is target\n",
    "chi2_selector = SelectKBest(score_func=chi2, k='all')\n",
    "chi2_selector.fit(X_encoded, y)\n",
    "chi2_scores = chi2_selector.scores_\n",
    "\n",
    "feature_names = X_encoded.columns\n",
    "\n",
    "scores = chi2_selector.scores_\n",
    "sorted_indices = np.argsort(scores)[::-1]\n",
    "\n",
    "\n",
    "for i in sorted_indices:\n",
    "    print(f\"{feature_names[i]}: {scores[i]:.2f}\")\n"
   ]
  },
  {
   "cell_type": "code",
   "execution_count": null,
   "id": "b911be6f",
   "metadata": {},
   "outputs": [],
   "source": [
    "# Assuming 'X_encoded' is the feature matrix and 'chi2_selector' is the fitted SelectKBest object\n",
    "feature_names = X_encoded.columns\n",
    "\n",
    "# Scores from chi2_selector\n",
    "scores = chi2_selector.scores_\n",
    "\n",
    "# Sorting indices in descending order based on the scores\n",
    "sorted_indices = np.argsort(scores)[::-1]\n",
    "\n",
    "# Sorting features and their scores\n",
    "sorted_feature_names = feature_names[sorted_indices]\n",
    "sorted_scores = scores[sorted_indices]\n",
    "\n",
    "# Plotting the bar chart\n",
    "plt.figure(figsize=(12, 8))\n",
    "plt.barh(sorted_feature_names, sorted_scores, color='skyblue')\n",
    "plt.xlabel('Chi-Square Scores')\n",
    "plt.title('Feature Importance based on Chi-Square Test')\n",
    "plt.gca().invert_yaxis()  # To show the most important feature at the top\n",
    "plt.show()\n",
    "\n"
   ]
  },
  {
   "cell_type": "markdown",
   "id": "698b64ac",
   "metadata": {},
   "source": [
    "\n",
    "##  Feature Selection Using Chi-Square Test\n",
    "\n",
    "###  Objective\n",
    "\n",
    "Before diving into model training, we aimed to identify which categorical and numerical features have the strongest statistical relationship with our target variable: **RainTomorrow**. The goal was to perform **feature selection** to reduce dimensionality, improve model performance, and interpretability.\n",
    "\n",
    "---\n",
    "### Methodology\n",
    "\n",
    "We used the **Chi-Square test (`chi2`)** from `sklearn.feature_selection.SelectKBest` to score each feature based on how strongly it is associated with the target variable. The higher the score, the more statistically significant the feature is.\n",
    "\n",
    "Before applying the test:\n",
    "\n",
    "- All categorical variables were properly encoded (Label Encoding or One-Hot Encoding as needed).\n",
    "- Features were ensured to be non-negative, as required by the Chi-Square test.\n",
    "\n",
    "---\n",
    "\n",
    "###  Results\n",
    "\n",
    "Here are the Chi-Square scores for the most important features:\n",
    "\n",
    "| Feature         | Chi2 Score        |\n",
    "|----------------|-------------------|\n",
    "| TempDiff        | 105,086,227.56    |\n",
    "| WindGustDiff    | 23,303,550.23     |\n",
    "| Rainfall        | 15,857,153.72     |\n",
    "| PressureDiff    | 8,396,806.55      |\n",
    "| Sunshine        | 5,189,527.32      |\n",
    "| Pressure9am     | 4,252,383.59      |\n",
    "| Pressure3pm     | 3,755,461.03      |\n",
    "| Humidity3pm     | 3,082,988.01      |\n",
    "| Temp3pm         | 1,182,737.16      |\n",
    "| HumidityDiff    | 1,146,961.35      |\n",
    "\n",
    "These features exhibited the strongest relationship with whether it will rain tomorrow, and will be prioritized in our model training phase.\n",
    "\n",
    "On the other hand, less important features included:\n",
    "\n",
    "| Feature         | Chi2 Score        |\n",
    "|----------------|-------------------|\n",
    "| Location        | 37.41             |\n",
    "| year            | 32.47             |\n",
    "| day             | 22.91             |\n",
    "| month           | 18.63             |\n",
    "\n",
    "These features showed weak statistical relationships and may be excluded or further analyzed.\n",
    "\n",
    "---\n",
    "\n",
    "###  Conclusion\n",
    "\n",
    "- **TempDiff**, **WindGustDiff**, and **Rainfall** are the most influential predictors for rain on the following day.\n",
    "- Features with low scores (like `Location`, `year`, `day`) are likely less useful for prediction and may be dropped or transformed differently.\n",
    "- This analysis helps reduce noise and improve model efficiency by focusing on the most impactful variables.\n",
    "\n",
    "Next step: Feed the selected features into our classification models.\n"
   ]
  },
  {
   "cell_type": "markdown",
   "id": "cf2b1cd0",
   "metadata": {},
   "source": [
    "###  Feature Importance (from XGBoost)\n",
    "\n",
    "| Rank | Feature         | Importance |\n",
    "|------|------------------|------------|\n",
    "| 1    | Humidity3pm      | 0.3097     |\n",
    "| 2    | Cloud3pm         | 0.0849     |\n",
    "| 3    | Sunshine         | 0.0562     |\n",
    "| 4    | WindGustDiff     | 0.0506     |\n",
    "| 5    | Pressure3pm      | 0.0499     |\n",
    "| 6    | Rainfall         | 0.0450     |\n",
    "| 7    | WindGustSpeed    | 0.0413     |\n",
    "| 8    | Location         | 0.0216     |\n",
    "| 9    | Temp9am          | 0.0193     |\n",
    "| 10   | PressureDiff     | 0.0193     |\n",
    "| ...  | ...              | ...        |\n",
    "| 30   | Cloud9am         | 0.0106     |\n",
    "\n",
    "> `Humidity3pm` was the most influential feature for rain prediction.\n",
    "\n",
    "---\n",
    "\n",
    "###  Top Features by Univariate Selection (SelectKBest)\n",
    "\n",
    "| Rank | Feature         | Score        |\n",
    "|------|------------------|--------------|\n",
    "| 1    | Humidity3pm      | 36829.35     |\n",
    "| 2    | Sunshine         | 26400.96     |\n",
    "| 3    | Cloud3pm         | 24651.29     |\n",
    "| 4    | CloudCoverAvg    | 24021.69     |\n",
    "| 5    | Rainfall         | 18300.56     |\n",
    "| 6    | TempDiff         | 16788.64     |\n",
    "| 7    | Cloud9am         | 16335.03     |\n",
    "| 8    | RainToday        | 12817.98     |\n",
    "| 9    | Humidity9am      | 10821.16     |\n",
    "| 10   | HumidityDiff     | 10454.75     |\n",
    "\n",
    ">  Features related to humidity and cloud cover were most important — makes sense for rain prediction.\n",
    "\n",
    "---\n"
   ]
  }
 ],
 "metadata": {
  "kernelspec": {
   "display_name": "Python 3",
   "language": "python",
   "name": "python3"
  },
  "language_info": {
   "codemirror_mode": {
    "name": "ipython",
    "version": 3
   },
   "file_extension": ".py",
   "mimetype": "text/x-python",
   "name": "python",
   "nbconvert_exporter": "python",
   "pygments_lexer": "ipython3",
   "version": "3.13.0"
  }
 },
 "nbformat": 4,
 "nbformat_minor": 5
}
